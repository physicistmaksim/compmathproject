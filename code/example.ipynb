{
 "cells": [
  {
   "cell_type": "markdown",
   "metadata": {},
   "source": [
    "**Семинар 1**"
   ]
  },
  {
   "cell_type": "code",
   "execution_count": 1,
   "metadata": {},
   "outputs": [],
   "source": [
    "from sem_3 import *"
   ]
  },
  {
   "cell_type": "code",
   "execution_count": null,
   "metadata": {},
   "outputs": [
    {
     "name": "stdout",
     "output_type": "stream",
     "text": [
      "Проверки сохранения:\n",
      "Относительная скорость: 3.55e-15\n",
      "Энергия: 4.26e-14\n",
      "Импульс: 1.78e-15\n"
     ]
    }
   ],
   "source": [
    "xi_p, xi1_p, a = simulate_collisions(check_conservation=True, save_to_file=False)"
   ]
  },
  {
   "cell_type": "code",
   "execution_count": 3,
   "metadata": {},
   "outputs": [
    {
     "data": {
      "text/plain": [
       "array([[-1.50456931,  1.87352468,  2.66043536],\n",
       "       [-1.58402165, -0.4503979 , -3.74931301],\n",
       "       [ 0.36769494,  1.11466963, -0.14292179],\n",
       "       ...,\n",
       "       [ 2.07515755, -7.54746063, -0.85005607],\n",
       "       [-4.98044572,  3.47528485,  0.25711365],\n",
       "       [ 0.30611208,  0.18115184,  3.37688016]])"
      ]
     },
     "execution_count": 3,
     "metadata": {},
     "output_type": "execute_result"
    }
   ],
   "source": [
    "xi_p"
   ]
  },
  {
   "cell_type": "markdown",
   "metadata": {},
   "source": [
    "**Семинар 2**"
   ]
  },
  {
   "cell_type": "code",
   "execution_count": 6,
   "metadata": {},
   "outputs": [],
   "source": [
    "N = 20\n",
    "xi_cut = 4.8\n",
    "\n",
    "(xi_x, xi_y, xi_z), dxi = create_velocity_grid(N, N, N, xi_cut)"
   ]
  },
  {
   "cell_type": "code",
   "execution_count": 8,
   "metadata": {},
   "outputs": [],
   "source": [
    "a_snapped, snapped_idx = snap_collision_velocities(a, (xi_x, xi_y, xi_z), dxi)"
   ]
  },
  {
   "cell_type": "code",
   "execution_count": 9,
   "metadata": {},
   "outputs": [
    {
     "name": "stdout",
     "output_type": "stream",
     "text": [
      "(8, 5616)\n",
      "Первая проверка по размеру пройдена\n"
     ]
    }
   ],
   "source": [
    "a_snapped_filtered, snapped_idx_filtered = filter_collision_nodes(a_snapped, snapped_idx, xi_cut)\n",
    "print(np.shape(a_snapped_filtered))\n",
    "print(\"Первая проверка по размеру пройдена\")"
   ]
  },
  {
   "cell_type": "code",
   "execution_count": 10,
   "metadata": {},
   "outputs": [],
   "source": [
    "a_updated = compute_post_collision_velocities_sem_2(a_snapped_filtered, 1.0)"
   ]
  },
  {
   "cell_type": "code",
   "execution_count": 11,
   "metadata": {},
   "outputs": [],
   "source": [
    "lam1, lam2, mu1, mu2, r = find_interpolating_nodes_and_weights(a_updated, (xi_x, xi_y, xi_z), dxi, xi_cut)"
   ]
  },
  {
   "cell_type": "code",
   "execution_count": 12,
   "metadata": {},
   "outputs": [
    {
     "name": "stdout",
     "output_type": "stream",
     "text": [
      "(3, 3390)\n",
      "Вторая проверка по размеру пройдена\n"
     ]
    }
   ],
   "source": [
    "print(np.shape(lam1))\n",
    "print(\"Вторая проверка по размеру пройдена\")"
   ]
  },
  {
   "cell_type": "code",
   "execution_count": 13,
   "metadata": {},
   "outputs": [
    {
     "name": "stdout",
     "output_type": "stream",
     "text": [
      "проверка r:\n"
     ]
    },
    {
     "data": {
      "text/plain": [
       "True"
      ]
     },
     "execution_count": 13,
     "metadata": {},
     "output_type": "execute_result"
    }
   ],
   "source": [
    "print(\"проверка r:\")\n",
    "np.all((r >= 0) & (r <= 1))"
   ]
  },
  {
   "cell_type": "code",
   "execution_count": 142,
   "metadata": {},
   "outputs": [
    {
     "name": "stdout",
     "output_type": "stream",
     "text": [
      "Проверка закона сохранения импульса\n",
      "lam1 + mu1:\n",
      "[[16  8 25 ... 26 14 19]\n",
      " [23 11 21 ... 11 22 19]\n",
      " [12 12 14 ... 20 19 14]]\n",
      "lam2 + mu2:\n",
      "[[16  7 26 ... 25 15 18]\n",
      " [23 10 22 ... 10 23 18]\n",
      " [12 11 15 ... 19 20 13]]\n",
      "Видно, что все координаты либо совпадают, либо отличаются на +-1\n"
     ]
    }
   ],
   "source": [
    "print(\"Проверка закона сохранения импульса\")\n",
    "print(\"lam1 + mu1:\")\n",
    "print(lam1 + mu1)\n",
    "print(\"lam2 + mu2:\")\n",
    "print(lam2 + mu2)\n",
    "print(\"Видно, что все координаты либо совпадают, либо отличаются на +-1\")"
   ]
  },
  {
   "cell_type": "markdown",
   "metadata": {},
   "source": [
    "**Семинар 3**"
   ]
  },
  {
   "cell_type": "code",
   "execution_count": 143,
   "metadata": {},
   "outputs": [
    {
     "data": {
      "text/plain": [
       "<module 'sem_3' from '/Users/ivankasyanov/Desktop/Физтех/3 курс/ВычМаты/проект/Без названия/compmathproject/code/sem_3.py'>"
      ]
     },
     "execution_count": 143,
     "metadata": {},
     "output_type": "execute_result"
    }
   ],
   "source": [
    "import sem_3\n",
    "import importlib\n",
    "importlib.reload(sem_3)"
   ]
  },
  {
   "cell_type": "code",
   "execution_count": null,
   "metadata": {},
   "outputs": [
    {
     "name": "stdout",
     "output_type": "stream",
     "text": [
      "initialize_distribution done\n",
      "compute_macro_parameters done\n",
      "newton_method done\n",
      "compute_norms done\n",
      "\n",
      "--- Step 1/20 ---\n",
      "Step 1: compute_collision_integral done\n",
      "Step 1: compute_norms done\n",
      "\n",
      "--- Step 2/20 ---\n"
     ]
    },
    {
     "name": "stderr",
     "output_type": "stream",
     "text": [
      "/var/folders/qq/pjggzry53mq7xbvhcjr59g800000gp/T/ipykernel_86039/639031758.py:37: RuntimeWarning: invalid value encountered in divide\n",
      "  delta_k.append([norm / init_norm for norm, init_norm in zip(norms, initial_norms)])\n"
     ]
    },
    {
     "name": "stdout",
     "output_type": "stream",
     "text": [
      "Step 2: compute_collision_integral done\n",
      "Step 2: compute_norms done\n",
      "\n",
      "--- Step 3/20 ---\n",
      "Step 3: compute_collision_integral done\n",
      "Step 3: compute_norms done\n",
      "\n",
      "--- Step 4/20 ---\n",
      "Step 4: compute_collision_integral done\n",
      "Step 4: compute_norms done\n",
      "\n",
      "--- Step 5/20 ---\n",
      "Step 5: compute_collision_integral done\n",
      "Step 5: compute_norms done\n",
      "\n",
      "--- Step 6/20 ---\n",
      "Step 6: compute_collision_integral done\n",
      "Step 6: compute_norms done\n",
      "\n",
      "--- Step 7/20 ---\n",
      "Step 7: compute_collision_integral done\n",
      "Step 7: compute_norms done\n",
      "\n",
      "--- Step 8/20 ---\n",
      "Step 8: compute_collision_integral done\n",
      "Step 8: compute_norms done\n",
      "\n",
      "--- Step 9/20 ---\n",
      "Step 9: compute_collision_integral done\n",
      "Step 9: compute_norms done\n",
      "\n",
      "--- Step 10/20 ---\n",
      "Step 10: compute_collision_integral done\n",
      "Step 10: compute_norms done\n",
      "\n",
      "--- Step 11/20 ---\n",
      "Step 11: compute_collision_integral done\n",
      "Step 11: compute_norms done\n",
      "\n",
      "--- Step 12/20 ---\n",
      "Step 12: compute_collision_integral done\n",
      "Step 12: compute_norms done\n",
      "\n",
      "--- Step 13/20 ---\n",
      "Step 13: compute_collision_integral done\n",
      "Step 13: compute_norms done\n",
      "\n",
      "--- Step 14/20 ---\n",
      "Step 14: compute_collision_integral done\n",
      "Step 14: compute_norms done\n",
      "\n",
      "--- Step 15/20 ---\n",
      "Step 15: compute_collision_integral done\n",
      "Step 15: compute_norms done\n",
      "\n",
      "--- Step 16/20 ---\n",
      "Step 16: compute_collision_integral done\n",
      "Step 16: compute_norms done\n",
      "\n",
      "--- Step 17/20 ---\n",
      "Step 17: compute_collision_integral done\n",
      "Step 17: compute_norms done\n",
      "\n",
      "--- Step 18/20 ---\n",
      "Step 18: compute_collision_integral done\n",
      "Step 18: compute_norms done\n",
      "\n",
      "--- Step 19/20 ---\n",
      "Step 19: compute_collision_integral done\n",
      "Step 19: compute_norms done\n",
      "\n",
      "--- Step 20/20 ---\n",
      "Step 20: compute_collision_integral done\n",
      "Step 20: compute_norms done\n",
      "Conservation check: Δn=0.0, Δu=0.0, ΔT=0.0\n"
     ]
    },
    {
     "ename": "IndexError",
     "evalue": "too many indices for array: array is 2-dimensional, but 3 were indexed",
     "output_type": "error",
     "traceback": [
      "\u001b[0;31m---------------------------------------------------------------------------\u001b[0m",
      "\u001b[0;31mIndexError\u001b[0m                                Traceback (most recent call last)",
      "Cell \u001b[0;32mIn[144], line 50\u001b[0m\n\u001b[1;32m     48\u001b[0m     f \u001b[38;5;241m=\u001b[39m compute_collision_integral(f, xi_grid, dxi, xi_cut, N_v, tau\u001b[38;5;241m=\u001b[39mtau_sym)\n\u001b[1;32m     49\u001b[0m I \u001b[38;5;241m=\u001b[39m (f \u001b[38;5;241m-\u001b[39m f_0) \u001b[38;5;241m/\u001b[39m (\u001b[38;5;241m100\u001b[39m \u001b[38;5;241m*\u001b[39m tau_sym)\n\u001b[0;32m---> 50\u001b[0m sym_error \u001b[38;5;241m=\u001b[39m sqrt(np\u001b[38;5;241m.\u001b[39msum((\u001b[43mI\u001b[49m\u001b[43m[\u001b[49m\u001b[43m:\u001b[49m\u001b[43mN\u001b[49m\u001b[43m \u001b[49m\u001b[38;5;241;43m/\u001b[39;49m\u001b[38;5;241;43m/\u001b[39;49m\u001b[43m \u001b[49m\u001b[38;5;241;43m2\u001b[39;49m\u001b[43m,\u001b[49m\u001b[43m \u001b[49m\u001b[43m:\u001b[49m\u001b[43m,\u001b[49m\u001b[43m \u001b[49m\u001b[43m:\u001b[49m\u001b[43m]\u001b[49m \u001b[38;5;241m-\u001b[39m I[N \u001b[38;5;241m-\u001b[39m \u001b[38;5;241m1\u001b[39m:N \u001b[38;5;241m/\u001b[39m\u001b[38;5;241m/\u001b[39m \u001b[38;5;241m2\u001b[39m \u001b[38;5;241m-\u001b[39m \u001b[38;5;241m1\u001b[39m:\u001b[38;5;241m-\u001b[39m\u001b[38;5;241m1\u001b[39m, :, :]) \u001b[38;5;241m*\u001b[39m\u001b[38;5;241m*\u001b[39m \u001b[38;5;241m2\u001b[39m)) \u001b[38;5;241m/\u001b[39m sqrt(\u001b[38;5;241m0.5\u001b[39m \u001b[38;5;241m*\u001b[39m np\u001b[38;5;241m.\u001b[39msum(I \u001b[38;5;241m*\u001b[39m\u001b[38;5;241m*\u001b[39m \u001b[38;5;241m2\u001b[39m))\n\u001b[1;32m     51\u001b[0m \u001b[38;5;28mprint\u001b[39m(\u001b[38;5;124mf\u001b[39m\u001b[38;5;124m\"\u001b[39m\u001b[38;5;124mSymmetry error: \u001b[39m\u001b[38;5;132;01m{\u001b[39;00msym_error\u001b[38;5;132;01m}\u001b[39;00m\u001b[38;5;124m\"\u001b[39m)\n\u001b[1;32m     53\u001b[0m \u001b[38;5;66;03m# Convergence and other checks would require additional runs with different N and p\u001b[39;00m\n\u001b[1;32m     54\u001b[0m \u001b[38;5;66;03m# Plotting delta_k vs model solution\u001b[39;00m\n",
      "\u001b[0;31mIndexError\u001b[0m: too many indices for array: array is 2-dimensional, but 3 were indexed"
     ]
    }
   ],
   "source": [
    "N = 20\n",
    "xi_cut = 4.8\n",
    "tau = 0.02\n",
    "T_tilde = 0.95\n",
    "time_steps = int(0.4 / tau)\n",
    "# f_max = 1 / ((2 * pi) ** 1.5)\n",
    "# V_sph = 4 * pi * xi_cut ** 3 / 3\n",
    "N_0 = 4224\n",
    "W_min = (N_0 * xi_cut ** 4) / (6 * sqrt(pi))\n",
    "N_v = int(W_min * tau)\n",
    "f, xi_grid, dxi = initialize_distribution(N, xi_cut, T_tilde, condition=1)\n",
    "print(\"initialize_distribution done\")\n",
    "n, u, T = compute_macro_parameters(f, xi_grid, dxi)\n",
    "print(\"compute_macro_parameters done\")\n",
    "u_star, T_star = newton_method(xi_grid, dxi, u, T)\n",
    "print(\"newton_method done\")\n",
    "f_M = np.exp(-0.5 * (xi_grid - u_star) ** 2 / T_star)\n",
    "volume = dxi[0] * dxi[1] * dxi[2]\n",
    "f_M /= np.sum(f_M, axis = 0) * volume\n",
    "# print(np.sum((f - f_M) ** 2))\n",
    "initial_norms = compute_norms(f, f_M, xi_grid, dxi, xi_cut)\n",
    "print(\"compute_norms done\")\n",
    "delta_k = []\n",
    "for t in range(time_steps):\n",
    "    # Добавляем номер шага в вывод\n",
    "    print(f\"\\n--- Step {t+1}/{time_steps} ---\")\n",
    "    \n",
    "    # Вычисление интеграла столкновений\n",
    "    f = compute_collision_integral(f, xi_grid, dxi, xi_cut, N_v, tau=tau)\n",
    "    print(f\"Step {t+1}: compute_collision_integral done\")\n",
    "    \n",
    "    # Вычисление норм\n",
    "    norms = compute_norms(f, f_M, xi_grid, dxi, xi_cut)\n",
    "    print(f\"Step {t+1}: compute_norms done\")\n",
    "    \n",
    "    # Сохранение результатов\n",
    "    delta_k.append([norm / init_norm for norm, init_norm in zip(norms, initial_norms)])"
   ]
  },
  {
   "cell_type": "markdown",
   "metadata": {},
   "source": [
    "Проверка №1. Консервативность интеграла.\n",
    "\n",
    "Проверка №2. Симметрия интеграла. <mark>(Исправленная, проверить работает ли)</mark>\n",
    "\n",
    "~~Проверка №3. Сходимость интеграла по шагу скоростной сетки.~~"
   ]
  },
  {
   "cell_type": "code",
   "execution_count": null,
   "metadata": {},
   "outputs": [],
   "source": [
    "# Conservation check\n",
    "n_new, u_new, T_new = compute_macro_parameters(f, xi_grid, dxi)\n",
    "print(f\"Conservation check: Δn={abs(n_new - n)}, Δu={np.linalg.norm(u_new - u)}, ΔT={abs(T_new - T)}\")\n",
    "\n",
    "# Symmetry check\n",
    "f_0 = f.copy()\n",
    "tau_sym = 1e-6\n",
    "time_steps_sym = int(100 * tau_sym / tau)\n",
    "for _ in range(time_steps_sym):\n",
    "    f = compute_collision_integral(f, xi_grid, dxi, xi_cut, N_v, tau=tau_sym)\n",
    "I = (f - f_0) / (100 * tau_sym)\n",
    "\n",
    "# Проверяем форму массива I для диагностики\n",
    "print(\"Shape of I:\", I.shape)  # Должно быть (N, N) для 2D\n",
    "\n",
    "# Вычисляем симметричную ошибку для 2D массива\n",
    "sym_error = np.sqrt(np.sum((I[:N//2, :] - I[N-1:N//2-1:-1, :])**2)) / np.sqrt(0.5 * np.sum(I**2))\n",
    "print(f\"Symmetry error: {sym_error}\")\n",
    "\n",
    "# Convergence and other checks would require additional runs with different N and p\n",
    "# Plotting delta_k vs model solution\n",
    "\n",
    "t = np.array([i * tau for i in range(time_steps)])\n",
    "model = -t * (16 / (5 * sqrt(2 * pi))) * sqrt(T)\n",
    "\n",
    "# Repeat for t=2 and condition=2 as needed"
   ]
  },
  {
   "cell_type": "markdown",
   "metadata": {},
   "source": [
    "Сохранение и загрузка посчитанных данных"
   ]
  },
  {
   "cell_type": "code",
   "execution_count": 175,
   "metadata": {},
   "outputs": [],
   "source": [
    "import os\n",
    "import numpy as np\n",
    "import json\n",
    "\n",
    "# Создаём папку для данных, если ее нет\n",
    "os.makedirs('data', exist_ok=True)\n",
    "\n",
    "# Сохраняем все данные\n",
    "def save_all_data():\n",
    "    data_to_save = {\n",
    "        # Основные массивы\n",
    "        'delta_k': delta_k,\n",
    "        'f_M': f_M,\n",
    "        'xi_grid': xi_grid,\n",
    "        'dxi': dxi,\n",
    "\n",
    "        # Макропараметры\n",
    "        'n': n,\n",
    "        'u': u,\n",
    "        'T': T,\n",
    "        'u_star': u_star,\n",
    "        'T_star': T_star,\n",
    "\n",
    "        # Нормы и модель\n",
    "        'initial_norms': initial_norms,\n",
    "\n",
    "        # Параметры симуляции\n",
    "        'params': {\n",
    "            'N': N,\n",
    "            'xi_cut': xi_cut,\n",
    "            'tau': tau,\n",
    "            'T_tilde': T_tilde,\n",
    "            'time_steps': time_steps,\n",
    "            'N_0': N_0,\n",
    "            'N_v': N_v\n",
    "        }\n",
    "    }\n",
    "\n",
    "    # Сохраняем numpy массивы\n",
    "    np.save('data/delta_k.npy', data_to_save['delta_k'])\n",
    "    np.save('data/f_Maxwell.npy', data_to_save['f_M'])\n",
    "    np.save('data/xi_grid.npy', data_to_save['xi_grid'])\n",
    "    np.save('data/dxi.npy', data_to_save['dxi'])\n",
    "    np.save('data/initial_norms.npy', data_to_save['initial_norms'])\n",
    "\n",
    "    # Сохраняем скалярные параметры и векторы\n",
    "    with open('data/parameters.json', 'w') as file:\n",
    "        json.dump({\n",
    "            'n': data_to_save['n'],\n",
    "            'u': data_to_save['u'].tolist(),\n",
    "            'T': data_to_save['T'],\n",
    "            'u_star': data_to_save['u_star'].tolist(),\n",
    "            'T_star': data_to_save['T_star'],\n",
    "            'params': data_to_save['params']\n",
    "        }, file, indent=4)\n",
    "\n",
    "# Загружаем данные\n",
    "def load_all_data():\n",
    "    data = {'delta_k': np.load('data/delta_k.npy'), 'f_M': np.load('data/f_Maxwell.npy'),\n",
    "            'xi_grid': np.load('data/xi_grid.npy'), 'dxi': np.load('data/dxi.npy'),\n",
    "            'initial_norms': np.load('data/initial_norms.npy')}\n",
    "\n",
    "    # Загружаем numpy массивы\n",
    "\n",
    "    # Загружаем скалярные параметры\n",
    "    with open('data/parameters.json', 'r') as file:\n",
    "        params_data = json.load(file)\n",
    "        data.update(params_data)\n",
    "        data['u'] = np.array(data['u'])\n",
    "        data['u_star'] = np.array(data['u_star'])\n",
    "\n",
    "    return data\n",
    "\n",
    "# Проверка целостности данных\n",
    "def verify_data(original, loaded):\n",
    "    # Проверка массивов\n",
    "    checks = [\n",
    "        ('delta_k', np.allclose(original['delta_k'], loaded['delta_k'], rtol=1e-6, atol=1e-8, equal_nan=True)),\n",
    "        ('f_M', np.allclose(original['f_M'], loaded['f_M'])),\n",
    "        ('xi_grid', np.allclose(original['xi_grid'], loaded['xi_grid'])),\n",
    "        ('dxi', np.allclose(original['dxi'], loaded['dxi'])),\n",
    "        ('initial_norms', np.allclose(original['initial_norms'], loaded['initial_norms'])),\n",
    "        ('n', np.isclose(original['n'], loaded['n'])),\n",
    "        ('u', np.allclose(original['u'], loaded['u'])),\n",
    "        ('T', np.isclose(original['T'], loaded['T'])),\n",
    "        ('u_star', np.allclose(original['u_star'], loaded['u_star'])),\n",
    "        ('T_star', np.isclose(original['T_star'], loaded['T_star'])),\n",
    "    ]\n",
    "\n",
    "    # Проверка параметров\n",
    "    param_checks = [\n",
    "        (k, original['params'][k] == loaded['params'][k])\n",
    "        for k in original['params']\n",
    "    ]\n",
    "\n",
    "    # Вывод результатов\n",
    "    print(\"Результаты проверки:\")\n",
    "    for name, status in checks + param_checks:\n",
    "        print(f\"{name:15}: {'OK' if status else 'FAIL'}\")\n",
    "\n",
    "    return all(status for _, status in checks + param_checks)"
   ]
  },
  {
   "cell_type": "code",
   "execution_count": 176,
   "metadata": {},
   "outputs": [
    {
     "name": "stdout",
     "output_type": "stream",
     "text": [
      "Результаты проверки:\n",
      "delta_k        : OK\n",
      "f_M            : OK\n",
      "xi_grid        : OK\n",
      "dxi            : OK\n",
      "initial_norms  : OK\n",
      "n              : OK\n",
      "u              : OK\n",
      "T              : OK\n",
      "u_star         : OK\n",
      "T_star         : OK\n",
      "N              : OK\n",
      "xi_cut         : OK\n",
      "tau            : OK\n",
      "T_tilde        : OK\n",
      "time_steps     : OK\n",
      "N_0            : OK\n",
      "N_v            : OK\n",
      "\n",
      "Все данные сохранены и загружены корректно!\n"
     ]
    }
   ],
   "source": [
    "# Сохраняем данные после выполнения основного кода\n",
    "save_all_data()\n",
    "\n",
    "# Загружаем данные\n",
    "loaded_data = load_all_data()\n",
    "\n",
    "# Создаём оригинальные данные для проверки\n",
    "original_data = {\n",
    "    'delta_k': delta_k,\n",
    "    'f_M': f_M,\n",
    "    'xi_grid': xi_grid,\n",
    "    'dxi': dxi,\n",
    "    'initial_norms': initial_norms,\n",
    "    'n': n,\n",
    "    'u': u,\n",
    "    'T': T,\n",
    "    'u_star': u_star,\n",
    "    'T_star': T_star,\n",
    "    'params': {\n",
    "        'N': N,\n",
    "        'xi_cut': xi_cut,\n",
    "        'tau': tau,\n",
    "        'T_tilde': T_tilde,\n",
    "        'time_steps': time_steps,\n",
    "        'N_0': N_0,\n",
    "        'N_v': N_v\n",
    "    }\n",
    "}\n",
    "\n",
    "# Проверяем целостность\n",
    "if verify_data(original_data, loaded_data):\n",
    "    print(\"\\nВсе данные сохранены и загружены корректно!\")\n",
    "else:\n",
    "    print(\"\\nОбнаружены расхождения в данных!\")"
   ]
  },
  {
   "cell_type": "code",
   "execution_count": null,
   "metadata": {},
   "outputs": [],
   "source": []
  }
 ],
 "metadata": {
  "kernelspec": {
   "display_name": "Python 3",
   "language": "python",
   "name": "python3"
  },
  "language_info": {
   "codemirror_mode": {
    "name": "ipython",
    "version": 3
   },
   "file_extension": ".py",
   "mimetype": "text/x-python",
   "name": "python",
   "nbconvert_exporter": "python",
   "pygments_lexer": "ipython3",
   "version": "3.9.6"
  },
  "orig_nbformat": 4
 },
 "nbformat": 4,
 "nbformat_minor": 2
}
