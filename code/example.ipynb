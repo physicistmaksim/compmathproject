{
 "cells": [
  {
   "cell_type": "code",
   "execution_count": 154,
   "metadata": {},
   "outputs": [],
   "source": [
    "from sem_1 import *"
   ]
  },
  {
   "cell_type": "code",
   "execution_count": 155,
   "metadata": {},
   "outputs": [
    {
     "name": "stdout",
     "output_type": "stream",
     "text": [
      "Проверки сохранения:\n",
      "Относительная скорость: 3.55e-15\n",
      "Энергия: 4.26e-14\n",
      "Импульс: 1.78e-15\n"
     ]
    }
   ],
   "source": [
    "xi_p, xi1_p = simulate_collisions(check_conservation=True, save_to_file=False)"
   ]
  },
  {
   "cell_type": "code",
   "execution_count": 156,
   "metadata": {},
   "outputs": [
    {
     "data": {
      "text/plain": [
       "array([[-3.46660995,  3.56462741,  4.33038865],\n",
       "       [-0.63544394,  6.4617911 , -0.19152047],\n",
       "       [ 0.43096081, -1.45399377,  2.56597022],\n",
       "       ...,\n",
       "       [-4.59734967, -3.94887462,  0.48615945],\n",
       "       [ 4.29738671, -0.32605958,  3.06045839],\n",
       "       [-4.18932798, -5.89252281, -1.85822234]])"
      ]
     },
     "execution_count": 156,
     "metadata": {},
     "output_type": "execute_result"
    }
   ],
   "source": [
    "xi_p"
   ]
  },
  {
   "cell_type": "code",
   "execution_count": 157,
   "metadata": {},
   "outputs": [],
   "source": [
    "# семинар 2\n",
    "from sem_2 import *"
   ]
  },
  {
   "cell_type": "code",
   "execution_count": 158,
   "metadata": {},
   "outputs": [],
   "source": [
    "(xi_x, xi_y, xi_z), dxi = create_velocity_grid(20, 20, 20, 4.8)"
   ]
  },
  {
   "cell_type": "code",
   "execution_count": 159,
   "metadata": {},
   "outputs": [],
   "source": [
    "a = create_random_params(20000)\n",
    "normalize_params(a, 1.0, 4.8)"
   ]
  },
  {
   "cell_type": "code",
   "execution_count": 160,
   "metadata": {},
   "outputs": [],
   "source": [
    "import sem_2\n",
    "import importlib\n",
    "importlib.reload(sem_2)\n",
    "from sem_2 import *\n",
    "\n",
    "a_snapped, snapped_idx = snap_collision_velocities(a, (xi_x, xi_y, xi_z), dxi)"
   ]
  },
  {
   "cell_type": "code",
   "execution_count": 161,
   "metadata": {},
   "outputs": [
    {
     "name": "stdout",
     "output_type": "stream",
     "text": [
      "(8, 5545)\n",
      "Первая проверка по размеру пройдена\n"
     ]
    }
   ],
   "source": [
    "a_snapped_filtered, snapped_idx_filtered = filter_collision_nodes(a_snapped, snapped_idx, 4.8)\n",
    "print(np.shape(a_snapped_filtered))\n",
    "print(\"Первая проверка по размеру пройдена\")"
   ]
  },
  {
   "cell_type": "code",
   "execution_count": 162,
   "metadata": {},
   "outputs": [],
   "source": [
    "a_updated = compute_post_collision_velocities_sem_2(a_snapped_filtered, 1.0)"
   ]
  },
  {
   "cell_type": "code",
   "execution_count": 163,
   "metadata": {},
   "outputs": [],
   "source": [
    "import sem_2\n",
    "import importlib\n",
    "importlib.reload(sem_2)\n",
    "from sem_2 import *\n",
    "\n",
    "lam1, lam2, mu1, mu2, r = find_interpolating_nodes_and_weights(a_updated, (xi_x, xi_y, xi_z), dxi, 4.8)"
   ]
  },
  {
   "cell_type": "code",
   "execution_count": 164,
   "metadata": {},
   "outputs": [
    {
     "name": "stdout",
     "output_type": "stream",
     "text": [
      "(3, 3307)\n",
      "Вторая проверка по размеру пройдена\n"
     ]
    }
   ],
   "source": [
    "print(np.shape(lam1))\n",
    "print(\"Вторая проверка по размеру пройдена\")"
   ]
  },
  {
   "cell_type": "code",
   "execution_count": 165,
   "metadata": {},
   "outputs": [
    {
     "name": "stdout",
     "output_type": "stream",
     "text": [
      "проверка r:\n"
     ]
    },
    {
     "data": {
      "text/plain": [
       "True"
      ]
     },
     "execution_count": 165,
     "metadata": {},
     "output_type": "execute_result"
    }
   ],
   "source": [
    "print(\"проверка r:\")\n",
    "np.all((r >= 0) & (r <= 1))"
   ]
  },
  {
   "cell_type": "code",
   "execution_count": 166,
   "metadata": {},
   "outputs": [
    {
     "name": "stdout",
     "output_type": "stream",
     "text": [
      "Проверка закона сохранения импульса\n",
      "lam1 + mu1:\n",
      "[[22 17 20 ... 26  4 20]\n",
      " [10 21 27 ... 27 19 21]\n",
      " [15 20 26 ... 24 22 12]]\n",
      "lam2 + mu2:\n",
      "[[21 18 21 ... 25  3 20]\n",
      " [ 9 22 28 ... 26 18 21]\n",
      " [14 21 27 ... 23 21 12]]\n",
      "Видно, что все координаты либо совпадают, либо отличаются на +-1\n"
     ]
    }
   ],
   "source": [
    "print(\"Проверка закона сохранения импульса\")\n",
    "print(\"lam1 + mu1:\")\n",
    "print(lam1 + mu1)\n",
    "print(\"lam2 + mu2:\")\n",
    "print(lam2 + mu2)\n",
    "print(\"Видно, что все координаты либо совпадают, либо отличаются на +-1\")"
   ]
  }
 ],
 "metadata": {
  "kernelspec": {
   "display_name": "Python 3.12.5 64-bit",
   "language": "python",
   "name": "python3"
  },
  "language_info": {
   "codemirror_mode": {
    "name": "ipython",
    "version": 3
   },
   "file_extension": ".py",
   "mimetype": "text/x-python",
   "name": "python",
   "nbconvert_exporter": "python",
   "pygments_lexer": "ipython3",
   "version": "3.12.5"
  },
  "orig_nbformat": 4,
  "vscode": {
   "interpreter": {
    "hash": "aee8b7b246df8f9039afb4144a1f6fd8d2ca17a180786b69acc140d282b71a49"
   }
  }
 },
 "nbformat": 4,
 "nbformat_minor": 2
}
